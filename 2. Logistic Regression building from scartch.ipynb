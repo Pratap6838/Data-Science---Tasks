{
 "cells": [
  {
   "cell_type": "markdown",
   "id": "b15dcec4",
   "metadata": {},
   "source": [
    "# Logistic Regression building from scartch"
   ]
  },
  {
   "cell_type": "code",
   "execution_count": 1,
   "id": "a8adb021",
   "metadata": {},
   "outputs": [],
   "source": [
    "import numpy as np\n",
    "import pandas as pd \n",
    "import matplotlib.pyplot as plt"
   ]
  },
  {
   "cell_type": "code",
   "execution_count": 68,
   "id": "e6c8e45d",
   "metadata": {},
   "outputs": [],
   "source": [
    "class LogisticRegression():\n",
    "    def __init__(self,data):\n",
    "        self.data = pd.DataFrame(data)\n",
    "        self.data['XY'] = self.data['X'] * self.data['Y']\n",
    "        self.data['X2'] = self.data['X'] ** 2\n",
    "        self.n = len(self.data)\n",
    "        self.sum_x = self.data['X'].sum()\n",
    "        self.sum_y = self.data['Y'].sum()\n",
    "        self.sum_xy = self.data['XY'].sum()\n",
    "        self.sum_x2 = self.data['X2'].sum()\n",
    "        \n",
    "    def display(self):\n",
    "        return self.data\n",
    "    \n",
    "    def summ(self):\n",
    "        return self.sum_x,self.sum_y,self.sum_xy,self.sum_x2,self.n\n",
    "    \n",
    "    def m(self):\n",
    "        numerator_m = self.n * self.sum_xy - (self.sum_x * self.sum_y)\n",
    "        denominator_m = self.n * self.sum_x2 - (self.sum_x)**2\n",
    "        self.m = numerator_m / denominator_m\n",
    "        return self.m\n",
    "    \n",
    "    def b(self):\n",
    "        self.b = (self.sum_y - self.m * self.sum_x) / self.n\n",
    "        return self.b\n",
    "    \n",
    "    def y_data_test(self):\n",
    "        self.y_data = [self.m * x + self.b for x in self.data['X']]\n",
    "        return self.y_data\n",
    "    \n",
    "    def y_test(self):\n",
    "        self.ys = [1 / (1 + np.exp(-ys)) for ys in self.y_data]\n",
    "        return self.ys\n",
    "    \n",
    "    def final(self):\n",
    "        self.final = [1 if bs >= 0.5 else 0 for bs in self.ys]\n",
    "        return self.final\n",
    "    \n",
    "    def accuracy(self):\n",
    "        correct = 0\n",
    "        for pred , org in zip(self.final , self.data['Y']):\n",
    "            if pred == org:\n",
    "                correct += 1\n",
    "            else:\n",
    "                pass\n",
    "        return correct / len(self.data)"
   ]
  },
  {
   "cell_type": "code",
   "execution_count": 69,
   "id": "da9015f8",
   "metadata": {},
   "outputs": [],
   "source": [
    "x = [3.78, 2.44, 2.09, 0.14, 1.72, 1.65, 4.92, 4.37, 4.96, 4.52, 3.69, 5.88]\n",
    "y = [0, 0, 0, 0, 0, 0, 1, 1, 1, 1, 1, 1]"
   ]
  },
  {
   "cell_type": "code",
   "execution_count": 70,
   "id": "1efa2f94",
   "metadata": {},
   "outputs": [],
   "source": [
    "data = {'X' : x , 'Y' : y}"
   ]
  },
  {
   "cell_type": "code",
   "execution_count": 71,
   "id": "e4d871f3",
   "metadata": {},
   "outputs": [
    {
     "data": {
      "text/html": [
       "<div>\n",
       "<style scoped>\n",
       "    .dataframe tbody tr th:only-of-type {\n",
       "        vertical-align: middle;\n",
       "    }\n",
       "\n",
       "    .dataframe tbody tr th {\n",
       "        vertical-align: top;\n",
       "    }\n",
       "\n",
       "    .dataframe thead th {\n",
       "        text-align: right;\n",
       "    }\n",
       "</style>\n",
       "<table border=\"1\" class=\"dataframe\">\n",
       "  <thead>\n",
       "    <tr style=\"text-align: right;\">\n",
       "      <th></th>\n",
       "      <th>X</th>\n",
       "      <th>Y</th>\n",
       "      <th>XY</th>\n",
       "      <th>X2</th>\n",
       "    </tr>\n",
       "  </thead>\n",
       "  <tbody>\n",
       "    <tr>\n",
       "      <th>0</th>\n",
       "      <td>3.78</td>\n",
       "      <td>0</td>\n",
       "      <td>0.00</td>\n",
       "      <td>14.2884</td>\n",
       "    </tr>\n",
       "    <tr>\n",
       "      <th>1</th>\n",
       "      <td>2.44</td>\n",
       "      <td>0</td>\n",
       "      <td>0.00</td>\n",
       "      <td>5.9536</td>\n",
       "    </tr>\n",
       "    <tr>\n",
       "      <th>2</th>\n",
       "      <td>2.09</td>\n",
       "      <td>0</td>\n",
       "      <td>0.00</td>\n",
       "      <td>4.3681</td>\n",
       "    </tr>\n",
       "    <tr>\n",
       "      <th>3</th>\n",
       "      <td>0.14</td>\n",
       "      <td>0</td>\n",
       "      <td>0.00</td>\n",
       "      <td>0.0196</td>\n",
       "    </tr>\n",
       "    <tr>\n",
       "      <th>4</th>\n",
       "      <td>1.72</td>\n",
       "      <td>0</td>\n",
       "      <td>0.00</td>\n",
       "      <td>2.9584</td>\n",
       "    </tr>\n",
       "    <tr>\n",
       "      <th>5</th>\n",
       "      <td>1.65</td>\n",
       "      <td>0</td>\n",
       "      <td>0.00</td>\n",
       "      <td>2.7225</td>\n",
       "    </tr>\n",
       "    <tr>\n",
       "      <th>6</th>\n",
       "      <td>4.92</td>\n",
       "      <td>1</td>\n",
       "      <td>4.92</td>\n",
       "      <td>24.2064</td>\n",
       "    </tr>\n",
       "    <tr>\n",
       "      <th>7</th>\n",
       "      <td>4.37</td>\n",
       "      <td>1</td>\n",
       "      <td>4.37</td>\n",
       "      <td>19.0969</td>\n",
       "    </tr>\n",
       "    <tr>\n",
       "      <th>8</th>\n",
       "      <td>4.96</td>\n",
       "      <td>1</td>\n",
       "      <td>4.96</td>\n",
       "      <td>24.6016</td>\n",
       "    </tr>\n",
       "    <tr>\n",
       "      <th>9</th>\n",
       "      <td>4.52</td>\n",
       "      <td>1</td>\n",
       "      <td>4.52</td>\n",
       "      <td>20.4304</td>\n",
       "    </tr>\n",
       "    <tr>\n",
       "      <th>10</th>\n",
       "      <td>3.69</td>\n",
       "      <td>1</td>\n",
       "      <td>3.69</td>\n",
       "      <td>13.6161</td>\n",
       "    </tr>\n",
       "    <tr>\n",
       "      <th>11</th>\n",
       "      <td>5.88</td>\n",
       "      <td>1</td>\n",
       "      <td>5.88</td>\n",
       "      <td>34.5744</td>\n",
       "    </tr>\n",
       "  </tbody>\n",
       "</table>\n",
       "</div>"
      ],
      "text/plain": [
       "       X  Y    XY       X2\n",
       "0   3.78  0  0.00  14.2884\n",
       "1   2.44  0  0.00   5.9536\n",
       "2   2.09  0  0.00   4.3681\n",
       "3   0.14  0  0.00   0.0196\n",
       "4   1.72  0  0.00   2.9584\n",
       "5   1.65  0  0.00   2.7225\n",
       "6   4.92  1  4.92  24.2064\n",
       "7   4.37  1  4.37  19.0969\n",
       "8   4.96  1  4.96  24.6016\n",
       "9   4.52  1  4.52  20.4304\n",
       "10  3.69  1  3.69  13.6161\n",
       "11  5.88  1  5.88  34.5744"
      ]
     },
     "execution_count": 71,
     "metadata": {},
     "output_type": "execute_result"
    }
   ],
   "source": [
    "lr = LogisticRegression(data)\n",
    "lr.display()"
   ]
  },
  {
   "cell_type": "code",
   "execution_count": 72,
   "id": "15207c75",
   "metadata": {},
   "outputs": [
    {
     "data": {
      "text/plain": [
       "(40.160000000000004, 6, 28.34, 166.8364, 12)"
      ]
     },
     "execution_count": 72,
     "metadata": {},
     "output_type": "execute_result"
    }
   ],
   "source": [
    "lr.summ()"
   ]
  },
  {
   "cell_type": "code",
   "execution_count": 73,
   "id": "b58ec42d",
   "metadata": {},
   "outputs": [
    {
     "data": {
      "text/plain": [
       "0.25466893039049254"
      ]
     },
     "execution_count": 73,
     "metadata": {},
     "output_type": "execute_result"
    }
   ],
   "source": [
    "lr.m()"
   ]
  },
  {
   "cell_type": "code",
   "execution_count": 74,
   "id": "fecc31f0",
   "metadata": {},
   "outputs": [
    {
     "data": {
      "text/plain": [
       "-0.35229202037351515"
      ]
     },
     "execution_count": 74,
     "metadata": {},
     "output_type": "execute_result"
    }
   ],
   "source": [
    "lr.b()"
   ]
  },
  {
   "cell_type": "code",
   "execution_count": 75,
   "id": "0989d66a",
   "metadata": {},
   "outputs": [
    {
     "data": {
      "text/plain": [
       "[0.6103565365025466,\n",
       " 0.26910016977928664,\n",
       " 0.1799660441426142,\n",
       " -0.3166383701188462,\n",
       " 0.08573853989813202,\n",
       " 0.06791171477079755,\n",
       " 0.9006791171477082,\n",
       " 0.7606112054329373,\n",
       " 0.9108658743633278,\n",
       " 0.798811544991511,\n",
       " 0.5874363327674024,\n",
       " 1.145161290322581]"
      ]
     },
     "execution_count": 75,
     "metadata": {},
     "output_type": "execute_result"
    }
   ],
   "source": [
    "lr.y_data_test()"
   ]
  },
  {
   "cell_type": "code",
   "execution_count": 76,
   "id": "d071b00a",
   "metadata": {},
   "outputs": [
    {
     "data": {
      "text/plain": [
       "[0.6480221285863931,\n",
       " 0.5668719846355837,\n",
       " 0.5448704717874033,\n",
       " 0.4214952205614104,\n",
       " 0.5214215139460395,\n",
       " 0.5169714065153649,\n",
       " 0.7110890414119702,\n",
       " 0.6814864183922656,\n",
       " 0.7131773147456357,\n",
       " 0.6897202016971237,\n",
       " 0.6427767054340011,\n",
       " 0.7586259974001811]"
      ]
     },
     "execution_count": 76,
     "metadata": {},
     "output_type": "execute_result"
    }
   ],
   "source": [
    "lr.y_test()"
   ]
  },
  {
   "cell_type": "code",
   "execution_count": 77,
   "id": "6295903e",
   "metadata": {},
   "outputs": [
    {
     "data": {
      "text/plain": [
       "[1, 1, 1, 0, 1, 1, 1, 1, 1, 1, 1, 1]"
      ]
     },
     "execution_count": 77,
     "metadata": {},
     "output_type": "execute_result"
    }
   ],
   "source": [
    "lr.final()"
   ]
  },
  {
   "cell_type": "code",
   "execution_count": 78,
   "id": "7f51387b",
   "metadata": {},
   "outputs": [
    {
     "data": {
      "text/plain": [
       "0.5833333333333334"
      ]
     },
     "execution_count": 78,
     "metadata": {},
     "output_type": "execute_result"
    }
   ],
   "source": [
    "lr.accuracy() "
   ]
  }
 ],
 "metadata": {
  "kernelspec": {
   "display_name": "Python 3 (ipykernel)",
   "language": "python",
   "name": "python3"
  },
  "language_info": {
   "codemirror_mode": {
    "name": "ipython",
    "version": 3
   },
   "file_extension": ".py",
   "mimetype": "text/x-python",
   "name": "python",
   "nbconvert_exporter": "python",
   "pygments_lexer": "ipython3",
   "version": "3.9.12"
  }
 },
 "nbformat": 4,
 "nbformat_minor": 5
}
