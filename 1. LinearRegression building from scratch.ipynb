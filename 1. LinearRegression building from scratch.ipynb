{
 "cells": [
  {
   "cell_type": "markdown",
   "id": "2177e11e",
   "metadata": {},
   "source": [
    "# LinearRegression building from scratch "
   ]
  },
  {
   "cell_type": "code",
   "execution_count": 2,
   "id": "09a0f3ce",
   "metadata": {},
   "outputs": [],
   "source": [
    "import numpy as np\n",
    "import pandas as pd\n",
    "import matplotlib.pyplot as plt  "
   ]
  },
  {
   "cell_type": "markdown",
   "id": "3dee8456",
   "metadata": {},
   "source": [
    "$$1. straight-line-equation : Y = mX + b $$"
   ]
  },
  {
   "cell_type": "markdown",
   "id": "7ca918bf",
   "metadata": {},
   "source": [
    "$$2. To-find- m = \\frac{n\\sum xy{} - \\sum x\\sum y}{n\\sum_{}x^{2} - (\\sum_{}x^{})^2}$$"
   ]
  },
  {
   "cell_type": "markdown",
   "id": "4bb45b72",
   "metadata": {},
   "source": [
    " $$3. For-bais-b : b = \\frac{\\sum_{}y^{} - m\\sum_{}x^{}}{n}$$"
   ]
  },
  {
   "cell_type": "markdown",
   "id": "b72f706b",
   "metadata": {},
   "source": [
    "$$4. error = \\sum_{}(ypred - yorg)^2{}$$"
   ]
  },
  {
   "cell_type": "code",
   "execution_count": 26,
   "id": "c5f0acdf",
   "metadata": {},
   "outputs": [],
   "source": [
    "class LinearRegression:\n",
    "    def __init__(self,data):\n",
    "        self.data = pd.DataFrame(data)\n",
    "        self.data['XY'] = self.data['X'] * self.data['Y']\n",
    "        self.data['X2'] = self.data['X'] ** 2\n",
    "        self.n = len(self.data)\n",
    "        self.sum_x = self.data['X'].sum()\n",
    "        self.sum_y = self.data['Y'].sum()\n",
    "        self.sum_xy = self.data['XY'].sum()\n",
    "        self.sum_x2 = self.data['X2'].sum()\n",
    "        \n",
    "    def display(self):\n",
    "        return self.data\n",
    "    \n",
    "    def summ(self):\n",
    "        return self.sum_x,self.sum_y,self.sum_xy,self.sum_x2,self.n\n",
    "    \n",
    "    def m(self):\n",
    "        numerator_m = self.n * self.sum_xy - (self.sum_x * self.sum_y)\n",
    "        denominator_m = self.n * self.sum_x2 - (self.sum_x)**2\n",
    "        self.m = numerator_m / denominator_m\n",
    "        return self.m\n",
    "    \n",
    "    def b(self):\n",
    "        self.b = (self.sum_y - self.m * self.sum_x) / self.n\n",
    "        return self.b\n",
    "    \n",
    "    def y_data_test(self):\n",
    "        self.y_data = [self.m * x + self.b for x in self.data['X']]\n",
    "        return self.y_data\n",
    "    \n",
    "    def fy_data(self,input):\n",
    "        self.f_data = list(input)\n",
    "        self.predict_data = [self.m * i + self.b for i in input]\n",
    "        return self.predict_data , self.f_data\n",
    "    \n",
    "    def plot(self):\n",
    "        # for merging two lists in one list\n",
    "        x = [*self.data['X'] , *self.f_data]\n",
    "        y = self.y_data + self.predict_data\n",
    "        print(x , y)\n",
    "        plt.figure(figsize=(9,5))\n",
    "        plt.scatter(self.data['X'],self.data['Y'])\n",
    "        plt.plot(x , y  ,c='r')\n",
    "        plt.scatter(x = self.f_data , y = self.predict_data ,c='r')\n",
    "        plt.title('LinearRegression',c = 'r')\n",
    "        plt.xlabel('Independent points')\n",
    "        plt.ylabel('Dependent points')\n",
    "        plt.show()\n",
    "         \n",
    "    def error(self):\n",
    "        err = sum([(yp - yo) **2 for yp,yo in zip(self.y_data , self.data['Y'])])\n",
    "        return err\n"
   ]
  },
  {
   "cell_type": "code",
   "execution_count": 27,
   "id": "64c16fe1",
   "metadata": {},
   "outputs": [],
   "source": [
    "x = [i for i in range(1,8)]\n",
    "y = [1.5,3.8,6.7,9.0,11.2,13.6,16]"
   ]
  },
  {
   "cell_type": "code",
   "execution_count": 28,
   "id": "6a8d4015",
   "metadata": {},
   "outputs": [],
   "source": [
    "data = {\n",
    "    'X':x,\n",
    "    'Y':y\n",
    "}"
   ]
  },
  {
   "cell_type": "code",
   "execution_count": 29,
   "id": "88909a92",
   "metadata": {},
   "outputs": [
    {
     "data": {
      "text/html": [
       "<div>\n",
       "<style scoped>\n",
       "    .dataframe tbody tr th:only-of-type {\n",
       "        vertical-align: middle;\n",
       "    }\n",
       "\n",
       "    .dataframe tbody tr th {\n",
       "        vertical-align: top;\n",
       "    }\n",
       "\n",
       "    .dataframe thead th {\n",
       "        text-align: right;\n",
       "    }\n",
       "</style>\n",
       "<table border=\"1\" class=\"dataframe\">\n",
       "  <thead>\n",
       "    <tr style=\"text-align: right;\">\n",
       "      <th></th>\n",
       "      <th>X</th>\n",
       "      <th>Y</th>\n",
       "      <th>XY</th>\n",
       "      <th>X2</th>\n",
       "    </tr>\n",
       "  </thead>\n",
       "  <tbody>\n",
       "    <tr>\n",
       "      <th>0</th>\n",
       "      <td>1</td>\n",
       "      <td>1.5</td>\n",
       "      <td>1.5</td>\n",
       "      <td>1</td>\n",
       "    </tr>\n",
       "    <tr>\n",
       "      <th>1</th>\n",
       "      <td>2</td>\n",
       "      <td>3.8</td>\n",
       "      <td>7.6</td>\n",
       "      <td>4</td>\n",
       "    </tr>\n",
       "    <tr>\n",
       "      <th>2</th>\n",
       "      <td>3</td>\n",
       "      <td>6.7</td>\n",
       "      <td>20.1</td>\n",
       "      <td>9</td>\n",
       "    </tr>\n",
       "    <tr>\n",
       "      <th>3</th>\n",
       "      <td>4</td>\n",
       "      <td>9.0</td>\n",
       "      <td>36.0</td>\n",
       "      <td>16</td>\n",
       "    </tr>\n",
       "    <tr>\n",
       "      <th>4</th>\n",
       "      <td>5</td>\n",
       "      <td>11.2</td>\n",
       "      <td>56.0</td>\n",
       "      <td>25</td>\n",
       "    </tr>\n",
       "    <tr>\n",
       "      <th>5</th>\n",
       "      <td>6</td>\n",
       "      <td>13.6</td>\n",
       "      <td>81.6</td>\n",
       "      <td>36</td>\n",
       "    </tr>\n",
       "    <tr>\n",
       "      <th>6</th>\n",
       "      <td>7</td>\n",
       "      <td>16.0</td>\n",
       "      <td>112.0</td>\n",
       "      <td>49</td>\n",
       "    </tr>\n",
       "  </tbody>\n",
       "</table>\n",
       "</div>"
      ],
      "text/plain": [
       "   X     Y     XY  X2\n",
       "0  1   1.5    1.5   1\n",
       "1  2   3.8    7.6   4\n",
       "2  3   6.7   20.1   9\n",
       "3  4   9.0   36.0  16\n",
       "4  5  11.2   56.0  25\n",
       "5  6  13.6   81.6  36\n",
       "6  7  16.0  112.0  49"
      ]
     },
     "execution_count": 29,
     "metadata": {},
     "output_type": "execute_result"
    }
   ],
   "source": [
    "lr = LinearRegression(data)\n",
    "lr.display()"
   ]
  },
  {
   "cell_type": "code",
   "execution_count": 30,
   "id": "1b796fd5",
   "metadata": {},
   "outputs": [
    {
     "data": {
      "text/plain": [
       "(28, 61.800000000000004, 314.8, 140, 7)"
      ]
     },
     "execution_count": 30,
     "metadata": {},
     "output_type": "execute_result"
    }
   ],
   "source": [
    "lr.summ()"
   ]
  },
  {
   "cell_type": "code",
   "execution_count": 31,
   "id": "cc963f0c",
   "metadata": {},
   "outputs": [
    {
     "data": {
      "text/plain": [
       "2.4142857142857133"
      ]
     },
     "execution_count": 31,
     "metadata": {},
     "output_type": "execute_result"
    }
   ],
   "source": [
    "lr.m()"
   ]
  },
  {
   "cell_type": "code",
   "execution_count": 32,
   "id": "ce926b41",
   "metadata": {},
   "outputs": [
    {
     "data": {
      "text/plain": [
       "-0.8285714285714231"
      ]
     },
     "execution_count": 32,
     "metadata": {},
     "output_type": "execute_result"
    }
   ],
   "source": [
    "lr.b()"
   ]
  },
  {
   "cell_type": "code",
   "execution_count": 33,
   "id": "f7be41e8",
   "metadata": {},
   "outputs": [
    {
     "data": {
      "text/plain": [
       "[1.5857142857142903,\n",
       " 4.0000000000000036,\n",
       " 6.414285714285717,\n",
       " 8.82857142857143,\n",
       " 11.242857142857142,\n",
       " 13.657142857142857,\n",
       " 16.07142857142857]"
      ]
     },
     "execution_count": 33,
     "metadata": {},
     "output_type": "execute_result"
    }
   ],
   "source": [
    "lr.y_data_test()"
   ]
  },
  {
   "cell_type": "code",
   "execution_count": 35,
   "id": "839c9ceb",
   "metadata": {},
   "outputs": [
    {
     "data": {
      "text/plain": [
       "([18.485714285714284,\n",
       "  20.9,\n",
       "  23.31428571428571,\n",
       "  25.728571428571424,\n",
       "  28.14285714285714],\n",
       " [8, 9, 10, 11, 12])"
      ]
     },
     "execution_count": 35,
     "metadata": {},
     "output_type": "execute_result"
    }
   ],
   "source": [
    "lr.fy_data([8,9,10,11,12])"
   ]
  },
  {
   "cell_type": "code",
   "execution_count": 36,
   "id": "c820b6ed",
   "metadata": {},
   "outputs": [
    {
     "name": "stdout",
     "output_type": "stream",
     "text": [
      "[1, 2, 3, 4, 5, 6, 7, 8, 9, 10, 11, 12] [1.5857142857142903, 4.0000000000000036, 6.414285714285717, 8.82857142857143, 11.242857142857142, 13.657142857142857, 16.07142857142857, 18.485714285714284, 20.9, 23.31428571428571, 25.728571428571424, 28.14285714285714]\n"
     ]
    },
    {
     "data": {
      "image/png": "[encoded data removed]",
      "text/plain": [
       "<Figure size 648x360 with 1 Axes>"
      ]
     },
     "metadata": {
      "needs_background": "light"
     },
     "output_type": "display_data"
    }
   ],
   "source": [
    "lr.plot()"
   ]
  },
  {
   "cell_type": "code",
   "execution_count": 37,
   "id": "378002aa",
   "metadata": {},
   "outputs": [
    {
     "data": {
      "text/plain": [
       "0.16857142857142873"
      ]
     },
     "execution_count": 37,
     "metadata": {},
     "output_type": "execute_result"
    }
   ],
   "source": [
    "lr.error()"
   ]
  }
 ],
 "metadata": {
  "kernelspec": {
   "display_name": "Python 3 (ipykernel)",
   "language": "python",
   "name": "python3"
  },
  "language_info": {
   "codemirror_mode": {
    "name": "ipython",
    "version": 3
   },
   "file_extension": ".py",
   "mimetype": "text/x-python",
   "name": "python",
   "nbconvert_exporter": "python",
   "pygments_lexer": "ipython3",
   "version": "3.9.12"
  }
 },
 "nbformat": 4,
 "nbformat_minor": 5
}
